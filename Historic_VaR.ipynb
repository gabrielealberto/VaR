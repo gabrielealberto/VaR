{
  "nbformat": 4,
  "nbformat_minor": 0,
  "metadata": {
    "colab": {
      "provenance": [],
      "authorship_tag": "ABX9TyN3o+6Icuk5bXT0rdRhzBAJ",
      "include_colab_link": true
    },
    "kernelspec": {
      "name": "python3",
      "display_name": "Python 3"
    },
    "language_info": {
      "name": "python"
    }
  },
  "cells": [
    {
      "cell_type": "markdown",
      "metadata": {
        "id": "view-in-github",
        "colab_type": "text"
      },
      "source": [
        "<a href=\"https://colab.research.google.com/github/gabrielealberto/VaR/blob/main/Historic_VaR.ipynb\" target=\"_parent\"><img src=\"https://colab.research.google.com/assets/colab-badge.svg\" alt=\"Open In Colab\"/></a>"
      ]
    },
    {
      "cell_type": "code",
      "execution_count": 14,
      "metadata": {
        "id": "QVq0GJWIXXAl"
      },
      "outputs": [],
      "source": [
        "import numpy as np\n",
        "import pandas as pd\n",
        "import yfinance as yf\n",
        "import datetime as dt\n",
        "import matplotlib.pyplot as plt"
      ]
    },
    {
      "cell_type": "code",
      "source": [
        "years = 15\n",
        "endDate = dt.datetime.now()\n",
        "startDate = endDate - dt.timedelta(days=252*years)"
      ],
      "metadata": {
        "id": "jeyMiqd4X4D5"
      },
      "execution_count": 15,
      "outputs": []
    },
    {
      "cell_type": "code",
      "source": [
        "etf = ['EXS1.DE', 'CSMIB.MI', 'SXRW.DE', 'CSSPX']\n",
        "\n",
        "# Download data and create DataFrame with Close prices only\n",
        "df = pd.DataFrame()\n",
        "\n",
        "for ticker in etf:\n",
        "    data = yf.download(ticker, start=startDate, end=endDate, interval='1d', auto_adjust=True)\n",
        "    df[ticker] = data['Close']"
      ],
      "metadata": {
        "colab": {
          "base_uri": "https://localhost:8080/"
        },
        "id": "iha1hGapXeKx",
        "outputId": "a7b48689-bb7e-45d5-ebe7-6c2e24b2c29f"
      },
      "execution_count": 16,
      "outputs": [
        {
          "output_type": "stream",
          "name": "stderr",
          "text": [
            "[*********************100%***********************]  1 of 1 completed\n",
            "[*********************100%***********************]  1 of 1 completed\n",
            "[*********************100%***********************]  1 of 1 completed\n",
            "[*********************100%***********************]  1 of 1 completed\n"
          ]
        }
      ]
    },
    {
      "cell_type": "code",
      "source": [
        "df.head(5)"
      ],
      "metadata": {
        "colab": {
          "base_uri": "https://localhost:8080/",
          "height": 237
        },
        "id": "6Nh4IUMzXm58",
        "outputId": "4b9a9994-f471-4c92-8a8e-05f372071782"
      },
      "execution_count": 17,
      "outputs": [
        {
          "output_type": "execute_result",
          "data": {
            "text/plain": [
              "               EXS1.DE   CSMIB.MI     SXRW.DE      CSSPX\n",
              "Date                                                    \n",
              "2015-05-26  102.970001  79.190002  133.720001  34.990788\n",
              "2015-05-27  104.150002  81.089996  134.820007  35.177975\n",
              "2015-05-28  103.209999  80.769997  133.820007  34.957359\n",
              "2015-05-29  100.980003  80.220001  132.220001  34.676571\n",
              "2015-06-01  101.099998  79.809998  131.320007  34.830345"
            ],
            "text/html": [
              "\n",
              "  <div id=\"df-35b37b8a-fe97-4a05-a60a-2429f453cc00\" class=\"colab-df-container\">\n",
              "    <div>\n",
              "<style scoped>\n",
              "    .dataframe tbody tr th:only-of-type {\n",
              "        vertical-align: middle;\n",
              "    }\n",
              "\n",
              "    .dataframe tbody tr th {\n",
              "        vertical-align: top;\n",
              "    }\n",
              "\n",
              "    .dataframe thead th {\n",
              "        text-align: right;\n",
              "    }\n",
              "</style>\n",
              "<table border=\"1\" class=\"dataframe\">\n",
              "  <thead>\n",
              "    <tr style=\"text-align: right;\">\n",
              "      <th></th>\n",
              "      <th>EXS1.DE</th>\n",
              "      <th>CSMIB.MI</th>\n",
              "      <th>SXRW.DE</th>\n",
              "      <th>CSSPX</th>\n",
              "    </tr>\n",
              "    <tr>\n",
              "      <th>Date</th>\n",
              "      <th></th>\n",
              "      <th></th>\n",
              "      <th></th>\n",
              "      <th></th>\n",
              "    </tr>\n",
              "  </thead>\n",
              "  <tbody>\n",
              "    <tr>\n",
              "      <th>2015-05-26</th>\n",
              "      <td>102.970001</td>\n",
              "      <td>79.190002</td>\n",
              "      <td>133.720001</td>\n",
              "      <td>34.990788</td>\n",
              "    </tr>\n",
              "    <tr>\n",
              "      <th>2015-05-27</th>\n",
              "      <td>104.150002</td>\n",
              "      <td>81.089996</td>\n",
              "      <td>134.820007</td>\n",
              "      <td>35.177975</td>\n",
              "    </tr>\n",
              "    <tr>\n",
              "      <th>2015-05-28</th>\n",
              "      <td>103.209999</td>\n",
              "      <td>80.769997</td>\n",
              "      <td>133.820007</td>\n",
              "      <td>34.957359</td>\n",
              "    </tr>\n",
              "    <tr>\n",
              "      <th>2015-05-29</th>\n",
              "      <td>100.980003</td>\n",
              "      <td>80.220001</td>\n",
              "      <td>132.220001</td>\n",
              "      <td>34.676571</td>\n",
              "    </tr>\n",
              "    <tr>\n",
              "      <th>2015-06-01</th>\n",
              "      <td>101.099998</td>\n",
              "      <td>79.809998</td>\n",
              "      <td>131.320007</td>\n",
              "      <td>34.830345</td>\n",
              "    </tr>\n",
              "  </tbody>\n",
              "</table>\n",
              "</div>\n",
              "    <div class=\"colab-df-buttons\">\n",
              "\n",
              "  <div class=\"colab-df-container\">\n",
              "    <button class=\"colab-df-convert\" onclick=\"convertToInteractive('df-35b37b8a-fe97-4a05-a60a-2429f453cc00')\"\n",
              "            title=\"Convert this dataframe to an interactive table.\"\n",
              "            style=\"display:none;\">\n",
              "\n",
              "  <svg xmlns=\"http://www.w3.org/2000/svg\" height=\"24px\" viewBox=\"0 -960 960 960\">\n",
              "    <path d=\"M120-120v-720h720v720H120Zm60-500h600v-160H180v160Zm220 220h160v-160H400v160Zm0 220h160v-160H400v160ZM180-400h160v-160H180v160Zm440 0h160v-160H620v160ZM180-180h160v-160H180v160Zm440 0h160v-160H620v160Z\"/>\n",
              "  </svg>\n",
              "    </button>\n",
              "\n",
              "  <style>\n",
              "    .colab-df-container {\n",
              "      display:flex;\n",
              "      gap: 12px;\n",
              "    }\n",
              "\n",
              "    .colab-df-convert {\n",
              "      background-color: #E8F0FE;\n",
              "      border: none;\n",
              "      border-radius: 50%;\n",
              "      cursor: pointer;\n",
              "      display: none;\n",
              "      fill: #1967D2;\n",
              "      height: 32px;\n",
              "      padding: 0 0 0 0;\n",
              "      width: 32px;\n",
              "    }\n",
              "\n",
              "    .colab-df-convert:hover {\n",
              "      background-color: #E2EBFA;\n",
              "      box-shadow: 0px 1px 2px rgba(60, 64, 67, 0.3), 0px 1px 3px 1px rgba(60, 64, 67, 0.15);\n",
              "      fill: #174EA6;\n",
              "    }\n",
              "\n",
              "    .colab-df-buttons div {\n",
              "      margin-bottom: 4px;\n",
              "    }\n",
              "\n",
              "    [theme=dark] .colab-df-convert {\n",
              "      background-color: #3B4455;\n",
              "      fill: #D2E3FC;\n",
              "    }\n",
              "\n",
              "    [theme=dark] .colab-df-convert:hover {\n",
              "      background-color: #434B5C;\n",
              "      box-shadow: 0px 1px 3px 1px rgba(0, 0, 0, 0.15);\n",
              "      filter: drop-shadow(0px 1px 2px rgba(0, 0, 0, 0.3));\n",
              "      fill: #FFFFFF;\n",
              "    }\n",
              "  </style>\n",
              "\n",
              "    <script>\n",
              "      const buttonEl =\n",
              "        document.querySelector('#df-35b37b8a-fe97-4a05-a60a-2429f453cc00 button.colab-df-convert');\n",
              "      buttonEl.style.display =\n",
              "        google.colab.kernel.accessAllowed ? 'block' : 'none';\n",
              "\n",
              "      async function convertToInteractive(key) {\n",
              "        const element = document.querySelector('#df-35b37b8a-fe97-4a05-a60a-2429f453cc00');\n",
              "        const dataTable =\n",
              "          await google.colab.kernel.invokeFunction('convertToInteractive',\n",
              "                                                    [key], {});\n",
              "        if (!dataTable) return;\n",
              "\n",
              "        const docLinkHtml = 'Like what you see? Visit the ' +\n",
              "          '<a target=\"_blank\" href=https://colab.research.google.com/notebooks/data_table.ipynb>data table notebook</a>'\n",
              "          + ' to learn more about interactive tables.';\n",
              "        element.innerHTML = '';\n",
              "        dataTable['output_type'] = 'display_data';\n",
              "        await google.colab.output.renderOutput(dataTable, element);\n",
              "        const docLink = document.createElement('div');\n",
              "        docLink.innerHTML = docLinkHtml;\n",
              "        element.appendChild(docLink);\n",
              "      }\n",
              "    </script>\n",
              "  </div>\n",
              "\n",
              "\n",
              "    <div id=\"df-b139317b-67c8-4180-9071-68c6213f2562\">\n",
              "      <button class=\"colab-df-quickchart\" onclick=\"quickchart('df-b139317b-67c8-4180-9071-68c6213f2562')\"\n",
              "                title=\"Suggest charts\"\n",
              "                style=\"display:none;\">\n",
              "\n",
              "<svg xmlns=\"http://www.w3.org/2000/svg\" height=\"24px\"viewBox=\"0 0 24 24\"\n",
              "     width=\"24px\">\n",
              "    <g>\n",
              "        <path d=\"M19 3H5c-1.1 0-2 .9-2 2v14c0 1.1.9 2 2 2h14c1.1 0 2-.9 2-2V5c0-1.1-.9-2-2-2zM9 17H7v-7h2v7zm4 0h-2V7h2v10zm4 0h-2v-4h2v4z\"/>\n",
              "    </g>\n",
              "</svg>\n",
              "      </button>\n",
              "\n",
              "<style>\n",
              "  .colab-df-quickchart {\n",
              "      --bg-color: #E8F0FE;\n",
              "      --fill-color: #1967D2;\n",
              "      --hover-bg-color: #E2EBFA;\n",
              "      --hover-fill-color: #174EA6;\n",
              "      --disabled-fill-color: #AAA;\n",
              "      --disabled-bg-color: #DDD;\n",
              "  }\n",
              "\n",
              "  [theme=dark] .colab-df-quickchart {\n",
              "      --bg-color: #3B4455;\n",
              "      --fill-color: #D2E3FC;\n",
              "      --hover-bg-color: #434B5C;\n",
              "      --hover-fill-color: #FFFFFF;\n",
              "      --disabled-bg-color: #3B4455;\n",
              "      --disabled-fill-color: #666;\n",
              "  }\n",
              "\n",
              "  .colab-df-quickchart {\n",
              "    background-color: var(--bg-color);\n",
              "    border: none;\n",
              "    border-radius: 50%;\n",
              "    cursor: pointer;\n",
              "    display: none;\n",
              "    fill: var(--fill-color);\n",
              "    height: 32px;\n",
              "    padding: 0;\n",
              "    width: 32px;\n",
              "  }\n",
              "\n",
              "  .colab-df-quickchart:hover {\n",
              "    background-color: var(--hover-bg-color);\n",
              "    box-shadow: 0 1px 2px rgba(60, 64, 67, 0.3), 0 1px 3px 1px rgba(60, 64, 67, 0.15);\n",
              "    fill: var(--button-hover-fill-color);\n",
              "  }\n",
              "\n",
              "  .colab-df-quickchart-complete:disabled,\n",
              "  .colab-df-quickchart-complete:disabled:hover {\n",
              "    background-color: var(--disabled-bg-color);\n",
              "    fill: var(--disabled-fill-color);\n",
              "    box-shadow: none;\n",
              "  }\n",
              "\n",
              "  .colab-df-spinner {\n",
              "    border: 2px solid var(--fill-color);\n",
              "    border-color: transparent;\n",
              "    border-bottom-color: var(--fill-color);\n",
              "    animation:\n",
              "      spin 1s steps(1) infinite;\n",
              "  }\n",
              "\n",
              "  @keyframes spin {\n",
              "    0% {\n",
              "      border-color: transparent;\n",
              "      border-bottom-color: var(--fill-color);\n",
              "      border-left-color: var(--fill-color);\n",
              "    }\n",
              "    20% {\n",
              "      border-color: transparent;\n",
              "      border-left-color: var(--fill-color);\n",
              "      border-top-color: var(--fill-color);\n",
              "    }\n",
              "    30% {\n",
              "      border-color: transparent;\n",
              "      border-left-color: var(--fill-color);\n",
              "      border-top-color: var(--fill-color);\n",
              "      border-right-color: var(--fill-color);\n",
              "    }\n",
              "    40% {\n",
              "      border-color: transparent;\n",
              "      border-right-color: var(--fill-color);\n",
              "      border-top-color: var(--fill-color);\n",
              "    }\n",
              "    60% {\n",
              "      border-color: transparent;\n",
              "      border-right-color: var(--fill-color);\n",
              "    }\n",
              "    80% {\n",
              "      border-color: transparent;\n",
              "      border-right-color: var(--fill-color);\n",
              "      border-bottom-color: var(--fill-color);\n",
              "    }\n",
              "    90% {\n",
              "      border-color: transparent;\n",
              "      border-bottom-color: var(--fill-color);\n",
              "    }\n",
              "  }\n",
              "</style>\n",
              "\n",
              "      <script>\n",
              "        async function quickchart(key) {\n",
              "          const quickchartButtonEl =\n",
              "            document.querySelector('#' + key + ' button');\n",
              "          quickchartButtonEl.disabled = true;  // To prevent multiple clicks.\n",
              "          quickchartButtonEl.classList.add('colab-df-spinner');\n",
              "          try {\n",
              "            const charts = await google.colab.kernel.invokeFunction(\n",
              "                'suggestCharts', [key], {});\n",
              "          } catch (error) {\n",
              "            console.error('Error during call to suggestCharts:', error);\n",
              "          }\n",
              "          quickchartButtonEl.classList.remove('colab-df-spinner');\n",
              "          quickchartButtonEl.classList.add('colab-df-quickchart-complete');\n",
              "        }\n",
              "        (() => {\n",
              "          let quickchartButtonEl =\n",
              "            document.querySelector('#df-b139317b-67c8-4180-9071-68c6213f2562 button');\n",
              "          quickchartButtonEl.style.display =\n",
              "            google.colab.kernel.accessAllowed ? 'block' : 'none';\n",
              "        })();\n",
              "      </script>\n",
              "    </div>\n",
              "\n",
              "    </div>\n",
              "  </div>\n"
            ],
            "application/vnd.google.colaboratory.intrinsic+json": {
              "type": "dataframe",
              "variable_name": "df",
              "summary": "{\n  \"name\": \"df\",\n  \"rows\": 2632,\n  \"fields\": [\n    {\n      \"column\": \"Date\",\n      \"properties\": {\n        \"dtype\": \"date\",\n        \"min\": \"2015-05-26 00:00:00\",\n        \"max\": \"2025-09-29 00:00:00\",\n        \"num_unique_values\": 2632,\n        \"samples\": [\n          \"2016-04-07 00:00:00\",\n          \"2016-08-23 00:00:00\",\n          \"2018-06-19 00:00:00\"\n        ],\n        \"semantic_type\": \"\",\n        \"description\": \"\"\n      }\n    },\n    {\n      \"column\": \"EXS1.DE\",\n      \"properties\": {\n        \"dtype\": \"number\",\n        \"std\": 27.2090633957338,\n        \"min\": 72.37000274658203,\n        \"max\": 203.5,\n        \"num_unique_values\": 1970,\n        \"samples\": [\n          98.80000305175781,\n          92.91000366210938,\n          154.33999633789062\n        ],\n        \"semantic_type\": \"\",\n        \"description\": \"\"\n      }\n    },\n    {\n      \"column\": \"CSMIB.MI\",\n      \"properties\": {\n        \"dtype\": \"number\",\n        \"std\": 34.796188418251496,\n        \"min\": 53.209999084472656,\n        \"max\": 207.3000030517578,\n        \"num_unique_values\": 2142,\n        \"samples\": [\n          57.61000061035156,\n          192.82000732421875,\n          81.58000183105469\n        ],\n        \"semantic_type\": \"\",\n        \"description\": \"\"\n      }\n    },\n    {\n      \"column\": \"SXRW.DE\",\n      \"properties\": {\n        \"dtype\": \"number\",\n        \"std\": 27.44552661400659,\n        \"min\": 87.88999938964844,\n        \"max\": 214.60000610351562,\n        \"num_unique_values\": 2008,\n        \"samples\": [\n          161.0,\n          126.11000061035156,\n          124.08000183105469\n        ],\n        \"semantic_type\": \"\",\n        \"description\": \"\"\n      }\n    },\n    {\n      \"column\": \"CSSPX\",\n      \"properties\": {\n        \"dtype\": \"number\",\n        \"std\": 7.067188519982513,\n        \"min\": 30.473600387573242,\n        \"max\": 60.01290512084961,\n        \"num_unique_values\": 2273,\n        \"samples\": [\n          53.804107666015625,\n          55.96869659423828,\n          45.722251892089844\n        ],\n        \"semantic_type\": \"\",\n        \"description\": \"\"\n      }\n    }\n  ]\n}"
            }
          },
          "metadata": {},
          "execution_count": 17
        }
      ]
    },
    {
      "cell_type": "code",
      "source": [
        "log_rets=np.log(df/df.shift(1)).dropna()"
      ],
      "metadata": {
        "id": "m50ET4a1XnTi"
      },
      "execution_count": 18,
      "outputs": []
    },
    {
      "cell_type": "code",
      "source": [
        "# Portfolio parameters\n",
        "value = 100000\n",
        "alpha = 0.05\n",
        "days = 7\n",
        "weights = len(etf) * [1/len(etf)]"
      ],
      "metadata": {
        "id": "O9_B6GQabYo9"
      },
      "execution_count": 19,
      "outputs": []
    },
    {
      "cell_type": "code",
      "source": [
        "# Calculate portfolio returns\n",
        "portfolio_returns = log_rets.dot(weights)"
      ],
      "metadata": {
        "id": "F-l3hC70b0EZ"
      },
      "execution_count": 20,
      "outputs": []
    },
    {
      "cell_type": "code",
      "source": [
        "# Calculate N-day returns (non-overlapping periods)\n",
        "# This is the correct approach: reshape into consecutive N-day periods\n",
        "n_periods = len(portfolio_returns) // days\n",
        "trimmed_returns = portfolio_returns[:n_periods * days]\n",
        "x_day_returns = trimmed_returns.values.reshape(-1, days).sum(axis=1)"
      ],
      "metadata": {
        "id": "mtY3pnEGcG6Y"
      },
      "execution_count": 21,
      "outputs": []
    },
    {
      "cell_type": "code",
      "source": [
        "# Convert to absolute monetary values\n",
        "x_day_returns_abs = x_day_returns * value"
      ],
      "metadata": {
        "id": "T-_sp1wycIql"
      },
      "execution_count": 22,
      "outputs": []
    },
    {
      "cell_type": "code",
      "source": [
        "# Calculate VaR and CVaR in absolute terms\n",
        "VaR_hist = np.percentile(x_day_returns_abs, 100*alpha)\n",
        "CVaR_hist = x_day_returns_abs[x_day_returns_abs <= VaR_hist].mean()\n",
        "\n",
        "print(f'Portfolio Value: €{value}')\n",
        "print(f'VaR {days} days: €{VaR_hist:.2f}')\n",
        "print(f'CVaR {days} days: €{CVaR_hist:.2f}')"
      ],
      "metadata": {
        "colab": {
          "base_uri": "https://localhost:8080/"
        },
        "id": "gydSH9DZgHQf",
        "outputId": "57d37404-f4b3-4e37-c60d-59750c02ce83"
      },
      "execution_count": 23,
      "outputs": [
        {
          "output_type": "stream",
          "name": "stdout",
          "text": [
            "Portfolio Value: €100000\n",
            "VaR 7 days: €-3833.73\n",
            "CVaR 7 days: €-7284.83\n"
          ]
        }
      ]
    },
    {
      "cell_type": "code",
      "source": [
        "# Visualization\n",
        "plt.figure(figsize=(12, 7))\n",
        "plt.hist(x_day_returns_abs, bins=50, alpha=0.75, color='#3498db', edgecolor='#2c3e50', linewidth=1.2)\n",
        "plt.axvline(VaR_hist, color='#e74c3c', linestyle='--', linewidth=2.5, label=f'VaR ({alpha*100}%): €{VaR_hist:.2f}')\n",
        "plt.axvline(CVaR_hist, color='#9b59b6', linestyle='-.', linewidth=2.5, label=f'CVaR ({alpha*100}%): €{CVaR_hist:.2f}')\n",
        "plt.axvline(0, color='#95a5a6', linestyle='-', linewidth=1, alpha=0.5)\n",
        "plt.xlabel(f'{days}-Day P&L (€)', fontsize=12, fontweight='bold')\n",
        "plt.ylabel('Frequency', fontsize=12, fontweight='bold')\n",
        "plt.title(f'Distribution of {days}-Day Portfolio Returns (€{value} Portfolio)', fontsize=14, fontweight='bold')\n",
        "plt.legend(fontsize=11, loc='upper left')\n",
        "plt.grid(True, alpha=0.3, linestyle='--')\n",
        "plt.tight_layout()\n",
        "plt.show()"
      ],
      "metadata": {
        "colab": {
          "base_uri": "https://localhost:8080/",
          "height": 707
        },
        "id": "6vubpEm1dLbl",
        "outputId": "f5885aaa-f246-4b9b-af91-515b2ce9dacc"
      },
      "execution_count": 24,
      "outputs": [
        {
          "output_type": "display_data",
          "data": {
            "text/plain": [
              "<Figure size 1200x700 with 1 Axes>"
            ],
            "image/png": "[encoded data removed]"
          },
          "metadata": {}
        }
      ]
    }
  ]
}